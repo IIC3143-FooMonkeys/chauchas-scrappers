{
 "cells": [
  {
   "cell_type": "markdown",
   "id": "94370e3a-10bc-4d60-87c7-3b40f0f099e0",
   "metadata": {},
   "source": [
    "# Scrapper Banco de Chile - Foo Monkeys"
   ]
  },
  {
   "cell_type": "markdown",
   "id": "e2bcded6-174f-4547-ac2e-363147fd1cfd",
   "metadata": {},
   "source": [
    "### Importaciones"
   ]
  },
  {
   "cell_type": "code",
   "execution_count": 1,
   "id": "df56ab82-d98e-4614-a508-b30cc1a1de2b",
   "metadata": {},
   "outputs": [],
   "source": [
    "from selenium import webdriver\n",
    "from bs4 import BeautifulSoup\n",
    "import json\n",
    "import os"
   ]
  },
  {
   "cell_type": "markdown",
   "id": "80f1f1ed-c6b6-40f6-89e9-5f5552bcb903",
   "metadata": {},
   "source": [
    "### Scraping"
   ]
  },
  {
   "cell_type": "markdown",
   "id": "47a6c257-1173-45bc-92ce-f4c4f9d2143a",
   "metadata": {},
   "source": [
    "Ponemos la url con la que se trabajará."
   ]
  },
  {
   "cell_type": "code",
   "execution_count": 2,
   "id": "949a5004",
   "metadata": {},
   "outputs": [],
   "source": [
    "url = 'https://portales.bancochile.cl/personas/beneficios/contenidos.json?page='"
   ]
  },
  {
   "cell_type": "markdown",
   "id": "952e129b-a6f3-4a52-ac25-272866c67d41",
   "metadata": {},
   "source": [
    "Buscamos en cada página que haya y guardamos todos los descuentos en una lista."
   ]
  },
  {
   "cell_type": "code",
   "execution_count": 3,
   "id": "43fb8207-9fcc-4ac9-a0e7-fec0f0562d38",
   "metadata": {},
   "outputs": [],
   "source": [
    "# set the driver\n",
    "driver = webdriver.Chrome()\n",
    "driver.maximize_window()\n",
    "\n",
    "# create data list of pages\n",
    "discounts = []\n",
    "\n",
    "# set paging\n",
    "totalPages = 1\n",
    "currentPage = 1\n",
    "\n",
    "# begin loop\n",
    "while currentPage <= totalPages:\n",
    "\n",
    "    # get page currentPage\n",
    "    driver.get(f'{url}{currentPage}')\n",
    "    pageSource = driver.page_source\n",
    "\n",
    "    # process it\n",
    "    soup = BeautifulSoup(pageSource, 'html.parser')\n",
    "    content = soup.find('pre')\n",
    "    jsonText = content.get_text()\n",
    "    data = json.loads(jsonText)\n",
    "\n",
    "    # if this is the first page, use it to set the actual totalPages\n",
    "    if currentPage == 1:\n",
    "        totalPages = data['meta']['total_pages']\n",
    "\n",
    "    discounts.extend(data['contenidos'])\n",
    "    \n",
    "    # update currentPage\n",
    "    currentPage+=1\n",
    "\n",
    "driver.quit()"
   ]
  },
  {
   "cell_type": "markdown",
   "id": "5a81fc0a-13fa-45d7-b4dc-c7f3f5381829",
   "metadata": {},
   "source": [
    "Screapeamos la página de detalle de cada descuento, la procesamos y los agregamos al descuento."
   ]
  },
  {
   "cell_type": "code",
   "execution_count": 31,
   "id": "b3ce2c77-8a2b-47ef-9a58-2635f4a15d83",
   "metadata": {},
   "outputs": [],
   "source": [
    "# set the driver\n",
    "driver = webdriver.Chrome()\n",
    "driver.maximize_window()\n",
    "\n",
    "# begin loop\n",
    "for discount in discounts:\n",
    "\n",
    "    # get url containing the details\n",
    "    url = discount['url']\n",
    "\n",
    "    # get the details\n",
    "    driver.get(url)\n",
    "    pageSource = driver.page_source\n",
    "\n",
    "    # get the parts we want to save\n",
    "    detailDescription = soup.find(class_='detail__description')\n",
    "    conditions = soup.find('p', class_='info__content beneficios-transversal').get_text(strip=True)\n",
    "    \n",
    "    # make an empty dictionary\n",
    "    details = {} \n",
    "    \n",
    "    # create a detailsList from the elements in detail_description\n",
    "    detailsList = []\n",
    "    liElements = detail_description.find_all('li')\n",
    "    for li in liElements:\n",
    "        detailsList.append(li.get_text(strip=True))\n",
    "    \n",
    "    # add summary, detailsList and conditions to the details dictionary\n",
    "    details['summary'] = content.find('p').get_text(strip=True)\n",
    "    details['list'] = detailsList\n",
    "    details['conditions'] = conditions\n",
    "\n",
    "    # add the details to the discount\n",
    "    discount['details'] = details\n",
    "\n",
    "driver.quit()"
   ]
  },
  {
   "cell_type": "code",
   "execution_count": null,
   "id": "a95260a7-9e73-456e-b5ae-cdbd235cea4e",
   "metadata": {},
   "outputs": [],
   "source": []
  },
  {
   "cell_type": "code",
   "execution_count": 35,
   "id": "07a38186-5b09-43b3-aad4-60b80f5256d8",
   "metadata": {},
   "outputs": [],
   "source": [
    "filename = 'discountsBancoDeChile.json'\n",
    "with open(filename, 'w', encoding='utf-8') as f:\n",
    "    json.dump(discounts, f, ensure_ascii=False, indent=4)"
   ]
  }
 ],
 "metadata": {
  "kernelspec": {
   "display_name": "Python 3 (ipykernel)",
   "language": "python",
   "name": "python3"
  },
  "language_info": {
   "codemirror_mode": {
    "name": "ipython",
    "version": 3
   },
   "file_extension": ".py",
   "mimetype": "text/x-python",
   "name": "python",
   "nbconvert_exporter": "python",
   "pygments_lexer": "ipython3",
   "version": "3.12.3"
  }
 },
 "nbformat": 4,
 "nbformat_minor": 5
}
